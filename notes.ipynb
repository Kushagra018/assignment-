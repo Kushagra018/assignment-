{
 "cells": [
  {
   "cell_type": "markdown",
   "metadata": {},
   "source": [
    "Notes By Kushagra Goel"
   ]
  },
  {
   "cell_type": "markdown",
   "metadata": {},
   "source": [
    "# DAY 1"
   ]
  },
  {
   "cell_type": "code",
   "execution_count": null,
   "metadata": {},
   "outputs": [],
   "source": [
    "## Dynamic Typing \n",
    "# Dynamic typing in Python refers to the feature where the type of a variable is determined at runtime,\n",
    "#  rather than being explicitly declared by the programmer. \n",
    "# This allows for greater flexibility in how variables can be used, but can also lead to unexpected behavior \n",
    "# if the type of a variable is changed without proper consideration.\n",
    "\n",
    "## Example \n",
    "\n",
    "x = 25\n",
    "y = \"This is an example of dynamic typing\"\n",
    "print(type(x))\n",
    "print(type(y))\n"
   ]
  },
  {
   "cell_type": "markdown",
   "metadata": {},
   "source": [
    "# 1.1 Variable\n",
    "\n",
    "Every variable is connected to a\n",
    "value, which is the information associated with that variable.\n",
    "\n",
    "For Example \n",
    " \n",
    " a= 5\n",
    " here value of 5 is assign to a variable\n"
   ]
  },
  {
   "cell_type": "markdown",
   "metadata": {},
   "source": [
    "# 1.2  <Tab> Syntax\n",
    "\n",
    "In Python, the .<tab> syntax is used to access the methods and attributes associated with a variable. \n",
    "When you type the variable name followed by a dot .and press the <tab> key, it will show a list of available methods and attributes \n",
    "that can be accessed."
   ]
  },
  {
   "cell_type": "code",
   "execution_count": null,
   "metadata": {},
   "outputs": [],
   "source": [
    "# Example\n",
    " \n",
    "x = \"hello World\"\n",
    "#x.<tab>\n",
    "print(x.upper())\n",
    "print(x.title())\n",
    "print(x.lower())\n",
    "print(x.__sizeof__())\n",
    "print(x.count('hello World'))"
   ]
  },
  {
   "cell_type": "markdown",
   "metadata": {},
   "source": [
    "# 1.3 Strings \n",
    "\n",
    "Strings are sequences of characters in Python. They are used to represent textual data, such as words or sentences. Strings are declared by enclosing a sequence of characters in single quotes (') or double quotes (\").\n",
    "\n",
    "For Example-"
   ]
  },
  {
   "cell_type": "code",
   "execution_count": null,
   "metadata": {},
   "outputs": [],
   "source": [
    "\n",
    "string_1= \"Hello, World!\"\n",
    "string_2 = 'This is a string '"
   ]
  },
  {
   "cell_type": "markdown",
   "metadata": {},
   "source": [
    "Another Example-"
   ]
  },
  {
   "cell_type": "code",
   "execution_count": null,
   "metadata": {},
   "outputs": [],
   "source": [
    "print('I told my friend, \"Python is my favorite language!\"')"
   ]
  },
  {
   "cell_type": "markdown",
   "metadata": {},
   "source": [
    "# 1.4 Multiple Assignment \n",
    "\n",
    "We can assign values to more than one variable using just a single line\n",
    "\n",
    "For Example-"
   ]
  },
  {
   "cell_type": "code",
   "execution_count": null,
   "metadata": {},
   "outputs": [],
   "source": [
    "x,y,z= 10,25,30\n",
    "print(x,y,z)"
   ]
  },
  {
   "cell_type": "markdown",
   "metadata": {},
   "source": [
    "# 1.5 Constants\n",
    "\n",
    "A constant is like a variable whose value stays the same throughout the life\n",
    "of a program. \n",
    "\n",
    "Constants are immutable.\n",
    "\n",
    "But python doesn’t have built-inconstant types, but Python programmers use all capital letters to indicate a \n",
    "variable should be treated as a constant and never be changed\n",
    "\n",
    "Example:\n"
   ]
  },
  {
   "cell_type": "code",
   "execution_count": null,
   "metadata": {},
   "outputs": [],
   "source": [
    "MAX_NUMBER = 5000"
   ]
  },
  {
   "cell_type": "markdown",
   "metadata": {},
   "source": [
    "# 1.6 PRINT FUNCTION\n",
    "\n",
    "The print() function in Python is used to output text or other data to the console. It can be used to print strings, numbers, \n",
    "variables, and the results of expressions. \n",
    "\n",
    "Here are a few examples:"
   ]
  },
  {
   "cell_type": "code",
   "execution_count": null,
   "metadata": {},
   "outputs": [],
   "source": [
    "print(\"HEllo World\")\n",
    "name = 'kushagra goel'\n",
    "age = 10*2\n",
    "print(f\"My name is {name.title()} and my age is {age}\")"
   ]
  },
  {
   "cell_type": "markdown",
   "metadata": {},
   "source": [
    "# 1.7 Formating strings or f-strings\n",
    "\n",
    "In Python, f-strings are a convenient way to embed expressions inside string literals, using a concise and readable syntax. An f-string is a string literal that is prefixed with the letter f, and can contain expressions inside curly braces {} which are evaluated and replaced with their values.\n",
    "\n",
    "Here's an example of an f-string:"
   ]
  },
  {
   "cell_type": "code",
   "execution_count": null,
   "metadata": {},
   "outputs": [],
   "source": [
    "name= 'kushagra goel'\n",
    "age = 20\n",
    "print(f\"My name is {name.title()} and my age is {age}\")\n",
    "print(\"My name is {} and my age is {}\".format(name.title(),age))"
   ]
  },
  {
   "cell_type": "markdown",
   "metadata": {},
   "source": [
    "# Day 2\n",
    "\n",
    "\n",
    "\n",
    "\n",
    "\n",
    "\n"
   ]
  },
  {
   "cell_type": "markdown",
   "metadata": {},
   "source": [
    "# 2.1 List\n",
    "\n",
    "a list is a collection of items that are ordered and changeable. Lists are defined using square brackets [] and can contain items of different types, including numbers, strings, and other objects.\n",
    "\n",
    "Here's an example of a list in Python:"
   ]
  },
  {
   "cell_type": "code",
   "execution_count": 2,
   "metadata": {},
   "outputs": [
    {
     "name": "stdout",
     "output_type": "stream",
     "text": [
      "['trek', 'cannondale', 'redline', 'specialized']\n"
     ]
    }
   ],
   "source": [
    "bicycles = ['trek', 'cannondale', 'redline', 'specialized']\n",
    "print(bicycles)"
   ]
  },
  {
   "cell_type": "markdown",
   "metadata": {},
   "source": [
    " Accessing Elements in the list"
   ]
  },
  {
   "cell_type": "code",
   "execution_count": 3,
   "metadata": {},
   "outputs": [
    {
     "name": "stdout",
     "output_type": "stream",
     "text": [
      "trek\n"
     ]
    }
   ],
   "source": [
    "print(bicycles[0])"
   ]
  },
  {
   "cell_type": "code",
   "execution_count": 4,
   "metadata": {},
   "outputs": [
    {
     "name": "stdout",
     "output_type": "stream",
     "text": [
      "Trek\n"
     ]
    }
   ],
   "source": [
    "print(bicycles[0].title())"
   ]
  },
  {
   "cell_type": "markdown",
   "metadata": {},
   "source": [
    " # 2.1.1 Index Position\n",
    "\n",
    "It starts from 0 (left to right)\n",
    "And -1, if it starts from backward (right to left)\n",
    "\n",
    "For example"
   ]
  },
  {
   "cell_type": "code",
   "execution_count": 5,
   "metadata": {},
   "outputs": [
    {
     "name": "stdout",
     "output_type": "stream",
     "text": [
      "['trek', 'cannondale', 'redline', 'specialized']\n",
      "['trek', 'cannondale', 'redline']\n"
     ]
    }
   ],
   "source": [
    "print(bicycles[0:])\n",
    "print(bicycles[ :-1])"
   ]
  },
  {
   "cell_type": "code",
   "execution_count": null,
   "metadata": {},
   "outputs": [],
   "source": [
    "# Using individual values from the list \n",
    "print(f\"I bought my first  {bicycles[1].upper()} bicycle  when I was 15 years old, now i am already {age} years old \")"
   ]
  },
  {
   "cell_type": "code",
   "execution_count": null,
   "metadata": {},
   "outputs": [],
   "source": [
    "#Exercise\n",
    "\n",
    "names_fri=[\"Raghav\",\"Namita\",\"Shivanshi\",\"Aryan\"]\n",
    "print(names_fri[0])\n",
    "print(names_fri[1])\n",
    "print(names_fri[2])\n",
    "print(names_fri[3])"
   ]
  },
  {
   "cell_type": "code",
   "execution_count": null,
   "metadata": {},
   "outputs": [],
   "source": [
    "message = f\"Hey {names_fri[0]}, how are you doing \"\n",
    "print(message)\n",
    "message = f\"Hey {names_fri[1]}, how are you doing \"\n",
    "print(message)\n",
    "message = f\"Hey {names_fri[2]}, how are you doing \"\n",
    "print(message)\n",
    "message = f\"Hey {names_fri[3]}, how are you doing \"\n",
    "print(message)"
   ]
  },
  {
   "cell_type": "code",
   "execution_count": null,
   "metadata": {},
   "outputs": [],
   "source": [
    "transportation =[\"Duke 390\",\"Apache 310\",\"R1\"]\n",
    "\n",
    "print(f\"I would like to own {transportation[int(input())]}\") # Here input function is used to choose index position "
   ]
  },
  {
   "cell_type": "markdown",
   "metadata": {},
   "source": [
    "# 2.1.2 Adding elements to the list \n",
    "\n",
    "The simplest way to add a new element to a list is to append the item to the\n",
    "list. When you append an item to a list, the new element is added to the end\n",
    "of the list\n",
    "\n",
    "Example:"
   ]
  },
  {
   "cell_type": "code",
   "execution_count": null,
   "metadata": {},
   "outputs": [],
   "source": [
    "transportation.append(\"java 42\")\n",
    "motorcycles = transportation\n",
    "print(motorcycles)"
   ]
  },
  {
   "cell_type": "markdown",
   "metadata": {},
   "source": [
    "# 2.1.3 Inserting an element to the list \n",
    "\n",
    "We can add a new element at any position in your list by using the insert()\n",
    "method.\n",
    "\n",
    "Example:"
   ]
  },
  {
   "cell_type": "code",
   "execution_count": null,
   "metadata": {},
   "outputs": [],
   "source": [
    "motorcycles.insert(0,\"Ducati 390X\")\n",
    "print(motorcycles)"
   ]
  },
  {
   "cell_type": "markdown",
   "metadata": {},
   "source": [
    "# 2.1.4 Removing elements from the list \n",
    "\n",
    "We can remove elements from the list by using delete statement \n",
    "\n",
    "Example:"
   ]
  },
  {
   "cell_type": "code",
   "execution_count": null,
   "metadata": {},
   "outputs": [],
   "source": [
    "del motorcycles[0]\n",
    "print(motorcycles)"
   ]
  },
  {
   "cell_type": "markdown",
   "metadata": {},
   "source": [
    "#  2.1.5 Removing elements using pop method \n",
    "\n",
    "The pop() method removes the last item in a list, but it lets you work\n",
    "with that item after removing it. The term pop comes from thinking of a\n",
    "list as a stack of items and popping one item off the top of the stack. In\n",
    "this analogy, the top of a stack corresponds to the end of a list.\n"
   ]
  },
  {
   "cell_type": "code",
   "execution_count": null,
   "metadata": {},
   "outputs": [],
   "source": [
    "#Example\n",
    "\n",
    "print(motorcycles)\n",
    "motorcycles_popped = motorcycles.pop()\n",
    "print(motorcycles_popped)\n",
    "print(motorcycles)"
   ]
  },
  {
   "cell_type": "markdown",
   "metadata": {},
   "source": [
    "# 2.1.6 Removing an Item by Value\n",
    "\n",
    "Sometimes we won’t know the position of the value we want to remove\n",
    "from a list. If we only know the value of the item we want to remove, you\n",
    "can use the remove() method \n",
    "\n",
    "here the example    \n"
   ]
  },
  {
   "cell_type": "code",
   "execution_count": null,
   "metadata": {},
   "outputs": [],
   "source": [
    "# here we want to remove \"Apache 310 \" from motorcycles\n",
    "\n",
    "motorcycles.remove('Apache 310')\n",
    "print(motorcycles)"
   ]
  },
  {
   "cell_type": "markdown",
   "metadata": {},
   "source": [
    "# \"Exercise\" \n",
    "\n",
    "3-4. Guest List: If you could invite anyone, living or deceased, to dinner, who\n",
    "would you invite? \n",
    "Make a list that includes at least three people you’d like to\n",
    "invite to dinner.\n",
    " Then use your list to print a message to each person, inviting\n",
    "them to dinner.\n",
    "\n",
    "3-5. Changing Guest List: You just heard that one of your guests can’t make the\n",
    "dinner, so you need to send out a new set of invitations. You’ll have to think of\n",
    "someone else to invite.\n",
    "\n",
    "• Start with your program from Exercise 3-4. Add a print() call at the end\n",
    "of your program stating the name of the guest who can’t make it.\n",
    "\n",
    "• Modify your list, replacing the name of the guest who can’t make it with\n",
    "the name of the new person you are inviting.\n",
    "\n",
    "• Print a second set of invitation messages, one for each person who is still\n",
    "in your list.\n",
    "\n",
    "\n",
    "3-6. More Guests: You just found a bigger dinner table, so now more space is\n",
    "available. Think of three more guests to invite to dinner.\n",
    "\n",
    "• Start with your program from Exercise 3-4 or Exercise 3-5. Add a print()\n",
    "call to the end of your program informing people that you found a bigger\n",
    "dinner table.\n",
    "\n",
    "• Use insert() to add one new guest to the beginning of your list.\n",
    "\n",
    "• Use insert() to add one new guest to the middle of your list.\n",
    "\n",
    "• Use append() to add one new guest to the end of your list.\n",
    "\n",
    "• Print a new set of invitation messages, one for each person in your list."
   ]
  },
  {
   "cell_type": "code",
   "execution_count": null,
   "metadata": {},
   "outputs": [],
   "source": [
    "guest_list=['Raja','jayant','nikita','gaurav','Darshit']"
   ]
  },
  {
   "cell_type": "code",
   "execution_count": 114,
   "metadata": {},
   "outputs": [
    {
     "name": "stdout",
     "output_type": "stream",
     "text": [
      "Hey Raja, I am organsing a get-together and you are invited \n",
      "Hey Jayant, I am organsing a get-together and you are invited \n",
      "Hey Nikita, I am organsing a get-together and you are invited \n",
      "Hey Gaurav, I am organsing a get-together and you are invited \n",
      "Hey Darshit, I am organsing a get-together and you are invited \n"
     ]
    }
   ],
   "source": [
    "print(f\"Hey {guest_list[int(input())].title()}, I am organsing a get-together and you are invited \")\n",
    "print(f\"Hey {guest_list[int(input())].title()}, I am organsing a get-together and you are invited \")\n",
    "print(f\"Hey {guest_list[int(input())].title()}, I am organsing a get-together and you are invited \")\n",
    "print(f\"Hey {guest_list[int(input())].title()}, I am organsing a get-together and you are invited \")\n",
    "print(f\"Hey {guest_list[int(input())].title()}, I am organsing a get-together and you are invited \")"
   ]
  },
  {
   "cell_type": "code",
   "execution_count": null,
   "metadata": {},
   "outputs": [],
   "source": [
    "guest_list.remove('gaurav')\n",
    "remaining_guests = guest_list\n",
    "print(remaining_guests)\n",
    "remaining_guests.insert(4,\"Kholi\")\n",
    "print(\"the guests who will come {}\".format(remaining_guests))"
   ]
  },
  {
   "cell_type": "code",
   "execution_count": null,
   "metadata": {},
   "outputs": [],
   "source": [
    "# We got more spaces left for dinner table so we will invite more guests \n",
    "\n",
    "guest_list.append('Raman')\n",
    "guest_list.append('sriddhi')\n",
    "guest_list.insert(0,\"Sanskriti\")\n",
    "print(guest_list)"
   ]
  },
  {
   "cell_type": "code",
   "execution_count": null,
   "metadata": {},
   "outputs": [],
   "source": [
    "print(f\"Hey {guest_list[int(input())].title()}, I am organsing a get-together and you are invited \")\n",
    "print(f\"Hey {guest_list[int(input())].title()}, I am organsing a get-together and you are invited \")\n",
    "print(f\"Hey {guest_list[int(input())].title()}, I am organsing a get-together and you are invited \")\n",
    "print(f\"Hey {guest_list[int(input())].title()}, I am organsing a get-together and you are invited \")\n"
   ]
  },
  {
   "cell_type": "code",
   "execution_count": null,
   "metadata": {},
   "outputs": [],
   "source": [
    "guest_remove =guest_list.pop()\n",
    "\n",
    "print(f\"Sorry {guest_remove.title()}, Dinner table will arive late so I can only invite two people\")\n",
    "guest_remove =guest_list.pop()\n",
    "\n",
    "print(f\"Sorry {guest_remove.title()}, Dinner table will arive late so I can only invite two people\")\n",
    "guest_remove =guest_list.pop()\n",
    "\n",
    "print(f\"Sorry {guest_remove.title()}, Dinner table will arive late so I can only invite two people\")\n",
    "guest_remove =guest_list.pop()\n",
    "\n",
    "print(f\"Sorry {guest_remove.title()}, Dinner table will arive late so I can only invite two people\")\n",
    "guest_remove =guest_list.pop()\n",
    "\n",
    "print(f\"Sorry {guest_remove.title()}, Dinner table will arive late so I can only invite two people\")\n",
    "guest_remove =guest_list.pop()\n",
    "\n",
    "print(f\"Sorry {guest_remove.title()}, Dinner table will arive late so I can only invite two people\")\n",
    "\n",
    "\n",
    "print(\"guest list: {}\". format(guest_list))"
   ]
  },
  {
   "cell_type": "markdown",
   "metadata": {},
   "source": [
    "# 2.2 Organizing the list "
   ]
  },
  {
   "cell_type": "markdown",
   "metadata": {},
   "source": [
    "# 2.2.1 Sorting a List Permanently with the sort() Method\n",
    "\n",
    "Python’s sort() method makes it relatively easy to sort a list. Imagine we\n",
    "have a list of cars and want to change the order of the list to store them\n",
    "alphabetically."
   ]
  },
  {
   "cell_type": "code",
   "execution_count": null,
   "metadata": {},
   "outputs": [],
   "source": [
    "cars=['BMW M3','Audi Q5','Toyata Supra', 'Porche 711 spyder']\n",
    "cars.sort()\n",
    "print(cars)"
   ]
  },
  {
   "cell_type": "markdown",
   "metadata": {},
   "source": [
    "# 2.2.2  Reverse order using sort()\n"
   ]
  },
  {
   "cell_type": "code",
   "execution_count": null,
   "metadata": {},
   "outputs": [],
   "source": [
    "cars.sort(reverse=True)\n",
    "print(cars)"
   ]
  },
  {
   "cell_type": "markdown",
   "metadata": {},
   "source": [
    "# 2.2.3 Sorting a List Temporarily with the sorted() Function\n",
    "\n",
    "To maintain the original order of a list but present it in a sorted order, you\n",
    "can use the sorted() function. The sorted() function lets you display your list\n",
    "in a particular order but doesn’t affect the actual order of the list.\n",
    "Let’s try this function on the list of cars."
   ]
  },
  {
   "cell_type": "code",
   "execution_count": null,
   "metadata": {},
   "outputs": [],
   "source": [
    "print(\"here is the original list\")\n",
    "print(cars)\n",
    "\n",
    "print(\"\\n Here is the sorted list\")\n",
    "print(sorted(cars))\n",
    "\n",
    "print(\"\\n here is original list again \")\n",
    "print(cars)"
   ]
  },
  {
   "cell_type": "markdown",
   "metadata": {},
   "source": [
    "# 2.2.4 Printing a List in Reverse Order\n",
    "\n",
    "To reverse the original order of a list, you can use the reverse() method.\n",
    "If we originally stored the list of cars in chronological order according to\n",
    "when we owned them, we could easily rearrange the list into reverse chronological\n",
    "order:"
   ]
  },
  {
   "cell_type": "code",
   "execution_count": null,
   "metadata": {},
   "outputs": [],
   "source": [
    "cars=['BMW M3','Audi Q5','Toyata Supra', 'Porche 711 spyder']\n",
    "print(cars)\n",
    "\n",
    "cars.reverse()\n",
    "print(cars)"
   ]
  },
  {
   "cell_type": "markdown",
   "metadata": {},
   "source": [
    "# 2.2.5 Finding the Length of a List\n",
    "\n",
    "We can quickly find the length of a list by using the len() function."
   ]
  },
  {
   "cell_type": "code",
   "execution_count": null,
   "metadata": {},
   "outputs": [],
   "source": [
    "cars=['BMW M3','Audi Q5','Toyata Supra', 'Porche 711 spyder']\n",
    "\n",
    "len(cars)"
   ]
  },
  {
   "cell_type": "markdown",
   "metadata": {},
   "source": [
    "# \"Exercise\"\n",
    "\n",
    "3-8. Seeing the World: Think of at least five places in the world you’d like to\n",
    "visit.\n",
    "\n",
    "• Store the locations in a list. Make sure the list is not in alphabetical order.\n",
    "\n",
    "• Print your list in its original order. Don’t worry about printing the list neatly,\n",
    "just print it as a raw Python list.\n",
    "\n",
    "• Use sorted() to print your list in alphabetical order without modifying the\n",
    "actual list.\n",
    "\n",
    "\n",
    "• Show that your list is still in its original order by printing it.\n",
    "\n",
    "• Use sorted() to print your list in reverse alphabetical order without changing\n",
    "the order of the original list.\n",
    "\n",
    "• Show that your list is still in its original order by printing it again.\n",
    "\n",
    "• Use reverse() to change the order of your list. Print the list to show that its\n",
    "order has changed.\n",
    "\n",
    "• Use reverse() to change the order of your list again. Print the list to show\n",
    "it’s back to its original order.\n",
    "• Use sort() to change your list so it’s stored in alphabetical order. Print the\n",
    "list to show that its order has been changed.\n",
    "• Use sort() to change your list so it’s stored in reverse alphabetical order.\n",
    "Print the list to show that its order has changed.\n",
    "\n",
    "3-9. Dinner Guests: Working with one of the programs from Exercises 3-4\n",
    "through 3-7 (page 42), \n",
    "use len() to print a message indicating the number\n",
    "of people you are inviting to dinner.\n",
    "\n"
   ]
  },
  {
   "cell_type": "code",
   "execution_count": null,
   "metadata": {},
   "outputs": [],
   "source": [
    "my_bucket_list=[\"Antartica\",\"Dubai\",\"Japan\",\"Singapore\",\"Nigra falls\",\"Bhutan\", \"Shimla\",\"Kashmir\"]\n",
    "print(my_bucket_list)\n",
    "print(sorted(my_bucket_list))\n",
    "print(f\"\\n\\nSee my list is stll in original order \\n {my_bucket_list}\")\n",
    "my_bucket_list.reverse()\n",
    "print(f\"reverse list : {my_bucket_list}\")\n",
    "my_bucket_list.reverse()\n",
    "print(f\"\\n\\n\\nback to original order {my_bucket_list}\")\n",
    "my_bucket_list.sort()\n",
    "print(f\"\\n\\n\\nAgain sorted in Alphabetical order \\n{my_bucket_list}\")\n",
    "my_bucket_list.sort()\n",
    "print(f\"\\n\\nback to orginal order \\n{my_bucket_list}\")\n",
    "\n"
   ]
  },
  {
   "cell_type": "code",
   "execution_count": null,
   "metadata": {},
   "outputs": [],
   "source": [
    "print(guest_list)"
   ]
  },
  {
   "cell_type": "code",
   "execution_count": null,
   "metadata": {},
   "outputs": [],
   "source": [
    "print(f\"No of guest {len(guest_list)}\")"
   ]
  },
  {
   "cell_type": "markdown",
   "metadata": {},
   "source": [
    "# 2.3 Looping Through an Entire List\n"
   ]
  },
  {
   "cell_type": "code",
   "execution_count": null,
   "metadata": {},
   "outputs": [],
   "source": [
    "magicians=[\"david\",\"Alice\",\"Maya\"]\n",
    "for i in magicians:\n",
    "    print(i)"
   ]
  },
  {
   "cell_type": "code",
   "execution_count": null,
   "metadata": {},
   "outputs": [],
   "source": [
    "for i in magicians:\n",
    "    print(f\"{i.title()}, that was a great trick\")\n",
    "    print(f\"I can't wait to see your next trick, {i.title()}\\n\")\n",
    "print('Thank you,everyone that was a great magic show')"
   ]
  },
  {
   "cell_type": "markdown",
   "metadata": {},
   "source": [
    "# 2.4 Making Numerical Lists\n",
    "\n"
   ]
  },
  {
   "cell_type": "markdown",
   "metadata": {},
   "source": [
    "# 2.4.1 Using the range() Function\n",
    "\n"
   ]
  },
  {
   "cell_type": "code",
   "execution_count": null,
   "metadata": {},
   "outputs": [],
   "source": [
    "for value in range(0,5):\n",
    "    print(value)"
   ]
  },
  {
   "cell_type": "code",
   "execution_count": null,
   "metadata": {},
   "outputs": [],
   "source": [
    "odd_number= list(range(1,100,2))  # Here we are finding all odd numbers between 1- 100\n",
    "print(odd_number)\n",
    "even_number= list(range(2,100,2))  # Here we are finding all even numbers between 1- 100\n",
    "print(even_number)\n",
    "natural_number=list(range(1,51))  # all natural number from 1-50\n",
    "print(natural_number)"
   ]
  },
  {
   "cell_type": "code",
   "execution_count": null,
   "metadata": {},
   "outputs": [],
   "source": [
    "# creating a program to find out square from 1- 20\n",
    "squares =[]\n",
    "print(type(squares))\n",
    "for value in range(1,21):\n",
    "    square= value **2\n",
    "    squares.append(square)\n",
    "print(squares)"
   ]
  },
  {
   "cell_type": "code",
   "execution_count": null,
   "metadata": {},
   "outputs": [],
   "source": [
    "# creating a program to find cube root from 1 -20\n",
    "cubes =[]\n",
    "for i in range(1,21):\n",
    "    cube = i **3\n",
    "    cubes.append(cube)\n",
    "print(cubes)"
   ]
  },
  {
   "cell_type": "code",
   "execution_count": null,
   "metadata": {},
   "outputs": [],
   "source": [
    "# creating a program to find quad root from 1-30\n",
    "quads= []\n",
    "num =[]\n",
    "for a in range(1,11):\n",
    "    quad = a**4\n",
    "    \n",
    "    quads.append(quad)\n",
    "    print(a)\n",
    "    print(quads)\n"
   ]
  },
  {
   "cell_type": "code",
   "execution_count": null,
   "metadata": {},
   "outputs": [],
   "source": [
    "# creating a program to find quad root from 1-30\n",
    "quads= []\n",
    "num =[]\n",
    "for a in range(1,11):\n",
    "    quad = a**4\n",
    "    \n",
    "    \n",
    "    print(a ,quad)\n",
    "    \n"
   ]
  },
  {
   "cell_type": "markdown",
   "metadata": {},
   "source": [
    "# 2.4.2 Simple Statistics with a List of Numbers\n",
    "\n",
    "We can easily find the minimum, maximum, and sum of a list of\n",
    "numbers."
   ]
  },
  {
   "cell_type": "code",
   "execution_count": null,
   "metadata": {},
   "outputs": [],
   "source": [
    "lst =[1121,36,645,155,122,336,8558,454]\n",
    "# MAXIMUM\n",
    "print(max(lst))\n",
    "# MINIMUM\n",
    "print(min(lst))\n",
    "# SUM OF THE ELEMENTS OF THE LIST\n",
    "print(sum(lst))"
   ]
  },
  {
   "cell_type": "markdown",
   "metadata": {},
   "source": [
    "# 2.5 List Comprehensions\n",
    "\n",
    "list comprehension allows you to generate\n",
    "this same list in just one line of code. A list comprehension combines the\n",
    "for loop and the creation of new elements into one line, and automatically\n",
    "appends each new element.\n",
    "\n",
    "Exmaple :\n"
   ]
  },
  {
   "cell_type": "code",
   "execution_count": null,
   "metadata": {},
   "outputs": [],
   "source": [
    "squares =[value **2 for value in range (1,11)]\n",
    "print(squares)"
   ]
  },
  {
   "cell_type": "markdown",
   "metadata": {},
   "source": [
    "# \"EXERCISE\"\n",
    "\n",
    "4-3. Counting to Twenty: Use a for loop to print the numbers from 1 to 20,\n",
    "inclusive.\n",
    "\n",
    "4-4. One Million: Make a list of the numbers from one to one million, and then\n",
    "use a for loop to print the numbers. (If the output is taking too long, stop it by\n",
    "pressing ctrl-C or by closing the output window.)\n",
    "\n",
    "4-5. Summing a Million: Make a list of the numbers from one to one million,\n",
    "and then use min() and max() to make sure your list actually starts at one and\n",
    "ends at one million. Also, use the sum() function to see how quickly Python can\n",
    "add a million numbers.\n",
    "\n",
    "4-6. Odd Numbers: Use the third argument of the range() function to make a\n",
    "list of the odd numbers from 1 to 20. Use a for loop to print each number.\n",
    "\n",
    "4-7. Threes: Make a list of the multiples of 3 from 3 to 30. Use a for loop to\n",
    "print the numbers in your list.\n",
    "\n",
    "4-8. Cubes: A number raised to the third power is called a cube. For example,\n",
    "the cube of 2 is written as 2**3 in Python. Make a list of the first 10 cubes (that\n",
    "is, the cube of each integer from 1 through 10), and use a for loop to print out\n",
    "the value of each cube.\n",
    "\n",
    "4-9. Cube Comprehension: Use a list comprehension to generate a list of the\n",
    "first 10 cubes.\n"
   ]
  },
  {
   "cell_type": "code",
   "execution_count": null,
   "metadata": {},
   "outputs": [],
   "source": [
    "for i in range(1,21):\n",
    "    print(i)"
   ]
  },
  {
   "cell_type": "code",
   "execution_count": 69,
   "metadata": {},
   "outputs": [
    {
     "name": "stdout",
     "output_type": "stream",
     "text": [
      "1000000\n",
      "1\n",
      "500000500000\n"
     ]
    }
   ],
   "source": [
    "lse =[ a  for a in range(1,1000001)]\n",
    "print(max(lse))\n",
    "print(min(lse))\n",
    "print(sum(lse))"
   ]
  },
  {
   "cell_type": "code",
   "execution_count": 73,
   "metadata": {},
   "outputs": [
    {
     "name": "stdout",
     "output_type": "stream",
     "text": [
      "[9, 12, 15, 18, 21, 24, 27, 30, 33, 36, 39, 42, 45, 48, 51, 54, 57, 60, 63, 66, 69, 72, 75, 78, 81, 84, 87, 90]\n"
     ]
    }
   ],
   "source": [
    "# Threes \n",
    "three = [muliple*3 for muliple in range(3,31)]\n",
    "print(three)"
   ]
  },
  {
   "cell_type": "code",
   "execution_count": 78,
   "metadata": {},
   "outputs": [
    {
     "name": "stdout",
     "output_type": "stream",
     "text": [
      "The list of cube :\n",
      "[1, 8, 27, 64, 125, 216, 343, 512, 729, 1000]\n",
      "[1, 8, 27, 64, 125, 216, 343, 512, 729, 1000]\n"
     ]
    }
   ],
   "source": [
    "#cubes\n",
    "cubes=[ cube**3 for cube in range(1,11)]\n",
    "print(f\"The list of cube :\\n{cubes}\")\n",
    "\n",
    "# another way to do it\n",
    "\n",
    "cubes =[]\n",
    "for i in range(1,11):\n",
    "    cube = i**3\n",
    "    cubes.append(cube)\n",
    "print(cubes)"
   ]
  },
  {
   "cell_type": "markdown",
   "metadata": {},
   "source": [
    "# 2.6 Working with Part of a List"
   ]
  },
  {
   "cell_type": "markdown",
   "metadata": {},
   "source": [
    "# 2.6.1 Slicing a List"
   ]
  },
  {
   "cell_type": "code",
   "execution_count": 81,
   "metadata": {},
   "outputs": [
    {
     "name": "stdout",
     "output_type": "stream",
     "text": [
      "['charles', 'martina', 'michael']\n"
     ]
    }
   ],
   "source": [
    "players= ['charles', 'martina', 'michael', 'florence', 'eli']\n",
    "print(players[0:3])"
   ]
  },
  {
   "cell_type": "code",
   "execution_count": 86,
   "metadata": {},
   "outputs": [
    {
     "name": "stdout",
     "output_type": "stream",
     "text": [
      "Charles\n",
      "Martina\n",
      "Michael\n"
     ]
    }
   ],
   "source": [
    "players= ['charles', 'martina', 'michael', 'florence', 'eli']\n",
    "# first three players in the list\n",
    "for player in players[:3]:\n",
    "    print(player.title())"
   ]
  },
  {
   "cell_type": "markdown",
   "metadata": {},
   "source": [
    "# 2.6.2 Copying a List\n",
    "\n",
    "To copy a list, we can make a slice that includes the entire original list\n",
    "by omitting the first index and the second index ([:]). This tells Python to\n",
    "make a slice that starts at the first item and ends with the last item, producing\n",
    "a copy of the entire list."
   ]
  },
  {
   "cell_type": "code",
   "execution_count": 90,
   "metadata": {},
   "outputs": [
    {
     "name": "stdout",
     "output_type": "stream",
     "text": [
      "Avoid eating CAKES, to keep youself away from Diabities\n",
      "Avoid eating DONUTS, to keep youself away from Diabities\n",
      "Avoid eating CHOCOLATES, to keep youself away from Diabities\n",
      "Avoid eating RASMALAYI, to keep youself away from Diabities\n"
     ]
    }
   ],
   "source": [
    "my_fav_food =['cakes','donuts','chocolates','rasmalayi']\n",
    "its_not_food_its_diabities = my_fav_food[:]\n",
    "for f in its_not_food_its_diabities:\n",
    "    print(f\"Avoid eating {f.upper()}, to keep youself away from Diabities\")"
   ]
  },
  {
   "cell_type": "markdown",
   "metadata": {},
   "source": [
    "# 3 Tuples\n",
    "\n",
    "A tuple looks just like a list except you use parentheses instead of square\n",
    "brackets.\n",
    "A tuple is immutable"
   ]
  },
  {
   "cell_type": "code",
   "execution_count": 92,
   "metadata": {},
   "outputs": [
    {
     "name": "stdout",
     "output_type": "stream",
     "text": [
      "200\n",
      "50\n"
     ]
    }
   ],
   "source": [
    "dimensions = (200, 50)\n",
    "for dimension in dimensions:\n",
    "    print(dimension)"
   ]
  },
  {
   "cell_type": "code",
   "execution_count": 93,
   "metadata": {},
   "outputs": [
    {
     "name": "stdout",
     "output_type": "stream",
     "text": [
      "\n",
      "Modified dimensions:\n",
      "400\n",
      "100\n"
     ]
    }
   ],
   "source": [
    "dimensions = (400, 100)\n",
    " print(\"\\nModified dimensions:\")\n",
    "for dimension in dimensions:\n",
    "    print(dimension)"
   ]
  },
  {
   "cell_type": "markdown",
   "metadata": {},
   "source": [
    "# 4.1 if statements "
   ]
  },
  {
   "cell_type": "code",
   "execution_count": 95,
   "metadata": {},
   "outputs": [
    {
     "name": "stdout",
     "output_type": "stream",
     "text": [
      "PORCHE 711\n",
      "bmw m3\n",
      "nissan gtr\n",
      "audi r8\n"
     ]
    }
   ],
   "source": [
    "cars=[\"porche 711\",\"bmw M3\",\"Nissan Gtr\",\"Audi r8\"]\n",
    "for car in cars:\n",
    "    if car ==\"porche 711\":\n",
    "        print(car.upper())\n",
    "    else:\n",
    "        print(car.lower())"
   ]
  },
  {
   "cell_type": "code",
   "execution_count": 97,
   "metadata": {},
   "outputs": [
    {
     "data": {
      "text/plain": [
       "True"
      ]
     },
     "execution_count": 97,
     "metadata": {},
     "output_type": "execute_result"
    }
   ],
   "source": [
    "car=='Audi r8'"
   ]
  },
  {
   "cell_type": "code",
   "execution_count": 100,
   "metadata": {},
   "outputs": [
    {
     "name": "stdout",
     "output_type": "stream",
     "text": [
      "You are adult so you are eligible to vote \n"
     ]
    }
   ],
   "source": [
    "age = int(input())\n",
    "if age<18:\n",
    "    print(\"you are too young to vote\")\n",
    "else:\n",
    "    print(\"You are adult so you are eligible to vote \")"
   ]
  },
  {
   "cell_type": "code",
   "execution_count": 1,
   "metadata": {},
   "outputs": [
    {
     "name": "stdout",
     "output_type": "stream",
     "text": [
      "Adding mushrooms.\n",
      "Adding extra cheese.\n",
      "\n",
      "Finished making your pizza!\n"
     ]
    }
   ],
   "source": [
    "requested_toppings = ['mushrooms', 'extra cheese']\n",
    "if 'mushrooms' in requested_toppings:\n",
    "    print(\"Adding mushrooms.\")\n",
    "if 'pepperoni' in requested_toppings:\n",
    "    print(\"Adding pepperoni.\")\n",
    "if 'extra cheese' in requested_toppings:\n",
    "    print(\"Adding extra cheese.\")\n",
    "print(\"\\nFinished making your pizza!\")"
   ]
  },
  {
   "cell_type": "markdown",
   "metadata": {},
   "source": [
    "# \"Exercise\"\n",
    "Stages of Life: Write an if-elif-else chain that determines a person’s\n",
    "stage of life. Set a value for the variable age, and then:\n",
    "\n",
    "• If the person is less than 2 years old, print a message that the person is\n",
    "a baby.\n",
    "\n",
    "• If the person is at least 2 years old but less than 4, print a message that\n",
    "the person is a toddler.\n",
    "\n",
    "• If the person is at least 4 years old but less than 13, print a message that\n",
    "the person is a kid.\n",
    "\n",
    "• If the person is at least 13 years old but less than 20, print a message that\n",
    "the person is a teenager.\n",
    "\n",
    "• If the person is at least 20 years old but less than 65, print a message that\n",
    "the person is an adult.\n",
    "\n",
    "• If the person is age 65 or older, print a message that the person is an\n",
    "elder."
   ]
  },
  {
   "cell_type": "code",
   "execution_count": 113,
   "metadata": {},
   "outputs": [
    {
     "name": "stdout",
     "output_type": "stream",
     "text": [
      "person is an adult\n"
     ]
    }
   ],
   "source": [
    "age= int(input(\"Enter age\"))\n",
    "if age < 2:\n",
    "    print(\"THe person is a baby.\")\n",
    "elif age >=2 and age <4:\n",
    "    print(\"Person is the toddler\")\n",
    "elif age>=4 and age <13:\n",
    "    print(\"Person is kid\")\n",
    "elif age>=13 and age <20:\n",
    "    print(\"Person is a teenager.\")\n",
    "elif age>=20 and age <65:\n",
    "    print(\"person is an adult\")\n",
    "elif age>=65 :\n",
    "    print(\"person is an elder\") \n"
   ]
  },
  {
   "cell_type": "markdown",
   "metadata": {},
   "source": [
    "# 4.1.1 Looping Through a Dictionary\n",
    "\n"
   ]
  },
  {
   "cell_type": "code",
   "execution_count": 6,
   "metadata": {},
   "outputs": [
    {
     "name": "stdout",
     "output_type": "stream",
     "text": [
      "username dante\n",
      "\n",
      "\n",
      "age 20\n",
      "\n",
      "\n",
      "last sparda\n",
      "\n",
      "\n"
     ]
    }
   ],
   "source": [
    "user ={\n",
    "    'username': 'dante',\n",
    "    'age': '20',\n",
    "    'last':'sparda',\n",
    "    }\n",
    "for key, value in user.items():\n",
    "    print(key ,  value)\n",
    "    print('\\n')"
   ]
  },
  {
   "cell_type": "code",
   "execution_count": 14,
   "metadata": {},
   "outputs": [
    {
     "name": "stdout",
     "output_type": "stream",
     "text": [
      "que : what_I_am_doing?, ans : practicing dicitionaries  in python\n",
      "que : at what level I am , ans : noob\n",
      "que : what I am dreaming, ans : i am dreaming I am earning million with my shity skills\n",
      "que : what i am now, ans : I am ignorant\n"
     ]
    }
   ],
   "source": [
    "user_2={\n",
    "    'name':'Abhi ',\n",
    "    'age':'25',\n",
    "    'place':'varnasi',\n",
    "    }\n",
    "dicts={\n",
    "        'what_I_am_doing?':'practicing dicitionaries  in python',\n",
    "        'at what level I am ':'noob',\n",
    "        'what I am dreaming': \"i am dreaming I am earning million with my shity skills\",\n",
    "        \"what i am now\": 'I am ignorant',\n",
    "        }\n",
    "for k,v in dicts.items():\n",
    "    print(\"que : {}, ans : {}\".format(k,v))"
   ]
  },
  {
   "cell_type": "markdown",
   "metadata": {},
   "source": [
    "# 4.1.3 Nesting"
   ]
  },
  {
   "cell_type": "code",
   "execution_count": 2,
   "metadata": {},
   "outputs": [
    {
     "name": "stdout",
     "output_type": "stream",
     "text": [
      "{'color': 'green', 'points': '10'}\n",
      "{'color': 'yellow', 'points': '25'}\n",
      "{'color': 'red', 'points': '30'}\n"
     ]
    }
   ],
   "source": [
    "alien_0={'color':'green','points':'10'}\n",
    "alien_1={'color':'yellow','points':'25'}\n",
    "alien_2={'color':'red','points':'30'}\n",
    "\n",
    "aliens=[alien_0,alien_1,alien_2]\n",
    "for alien in aliens:\n",
    "    print(alien)"
   ]
  },
  {
   "cell_type": "code",
   "execution_count": 3,
   "metadata": {},
   "outputs": [
    {
     "name": "stdout",
     "output_type": "stream",
     "text": [
      "{'color': 'green', 'points': '10'}\n",
      "{'color': 'yellow', 'points': '25'}\n",
      "{'color': 'red', 'points': '30'}\n"
     ]
    }
   ],
   "source": [
    "for alien in aliens:\n",
    "    print(alien)"
   ]
  },
  {
   "cell_type": "markdown",
   "metadata": {},
   "source": [
    "# 5.1 user input and While loops"
   ]
  },
  {
   "cell_type": "markdown",
   "metadata": {},
   "source": [
    "# 5.1.1 Input function\n",
    "\n",
    "The input() function pauses your program and waits for the user to enter\n",
    "some text. Once Python receives the user’s input, it assigns that input to a\n",
    "variable to make it convenient for you to work with.\n",
    "For example, the following program asks the user to enter some text,\n",
    "then displays that message back to the user:"
   ]
  },
  {
   "cell_type": "code",
   "execution_count": 4,
   "metadata": {},
   "outputs": [
    {
     "name": "stdout",
     "output_type": "stream",
     "text": [
      "kushagra goel\n"
     ]
    }
   ],
   "source": [
    "message= input('Enter your name ')\n",
    "print(message)"
   ]
  },
  {
   "cell_type": "markdown",
   "metadata": {},
   "source": [
    "# 'exercise'\n",
    "\n",
    "7-2. Restaurant Seating: Write a program that asks the user how many people\n",
    "are in their dinner group. If the answer is more than eight, print a message saying\n",
    "they’ll have to wait for a table. Otherwise, report that their table is ready.\n"
   ]
  },
  {
   "cell_type": "code",
   "execution_count": 7,
   "metadata": {},
   "outputs": [
    {
     "name": "stdout",
     "output_type": "stream",
     "text": [
      "Sorry sir, you have to wait for few min for table to be free\n"
     ]
    }
   ],
   "source": [
    "no_of_people = int(input(\"enter no of peoples\"))\n",
    "if no_of_people <8:\n",
    "    print(\"We have a table available\")\n",
    "else:\n",
    "    print('Sorry sir, you have to wait for few min for table to be free')"
   ]
  },
  {
   "cell_type": "markdown",
   "metadata": {},
   "source": [
    "# 5.2 While loop\n",
    "In Python, the while loop allows you to repeatedly execute a block of code as long as a given condition remains true.\n",
    " \n",
    "The basic syntax for a while loop is:"
   ]
  },
  {
   "cell_type": "code",
   "execution_count": 26,
   "metadata": {},
   "outputs": [
    {
     "ename": "SyntaxError",
     "evalue": "incomplete input (3568298088.py, line 2)",
     "output_type": "error",
     "traceback": [
      "\u001b[1;36m  Cell \u001b[1;32mIn[26], line 2\u001b[1;36m\u001b[0m\n\u001b[1;33m    # code to be executed\u001b[0m\n\u001b[1;37m                         ^\u001b[0m\n\u001b[1;31mSyntaxError\u001b[0m\u001b[1;31m:\u001b[0m incomplete input\n"
     ]
    }
   ],
   "source": [
    "while condition:                        \n",
    "    # code to be executed"
   ]
  },
  {
   "cell_type": "markdown",
   "metadata": {},
   "source": [
    "The loop continues to run as long as condition evaluates to True. Once condition evaluates to False, the loop stops and control is transferred to the next line of code after the loop. It's important to ensure that the condition eventually evaluates to False, or the loop will run indefinitely and cause an infinite loop."
   ]
  },
  {
   "cell_type": "code",
   "execution_count": 8,
   "metadata": {},
   "outputs": [
    {
     "name": "stdout",
     "output_type": "stream",
     "text": [
      "1\n",
      "2\n",
      "3\n",
      "4\n",
      "5\n"
     ]
    }
   ],
   "source": [
    "num=1\n",
    "while num <=5:\n",
    "    print(num)\n",
    "    num = num+1"
   ]
  },
  {
   "cell_type": "code",
   "execution_count": 11,
   "metadata": {},
   "outputs": [
    {
     "name": "stdout",
     "output_type": "stream",
     "text": [
      "g]\n",
      "ghjg'\n",
      "i can write whatever i want to\n",
      "\n",
      "\n",
      "\n",
      "whajfsfjsdklfjsjf\n",
      "sjfkljdslfkasjfldjasjfld;jf\n",
      "kl;dsjfadsfjdsklfjdsf\n",
      "fidslfjdsakl;fjsfjkadlsfj\n",
      "isdl;jfksadjfkl;sfjklja\n",
      "quit\n"
     ]
    }
   ],
   "source": [
    "prompt = \"\\nTell me something, and I will repeat it back to you:\"\n",
    "prompt += \"\\nEnter 'quit' to end the program. \"\n",
    "message = \"\"\n",
    "\n",
    "while message != 'quit':\n",
    "    message = input(prompt)\n",
    "    print(message)"
   ]
  },
  {
   "cell_type": "code",
   "execution_count": 19,
   "metadata": {},
   "outputs": [
    {
     "name": "stdout",
     "output_type": "stream",
     "text": [
      "hello dasd, how are you doing?\n",
      "hello jgklfjdgls, how are you doing?\n",
      "hello djgklsj, how are you doing?\n",
      "hello gdfg, how are you doing?\n",
      "hello dfgdfg, how are you doing?\n",
      "hello dfg, how are you doing?\n",
      "hello dfg, how are you doing?\n"
     ]
    }
   ],
   "source": [
    "message= \"\"\n",
    "while message!='quit':\n",
    "    message = input()\n",
    "    if message != 'quit':\n",
    "        print(\"hello {}, how are you doing?\".format(message))\n",
    "    else:\n",
    "        break\n",
    "\n"
   ]
  },
  {
   "cell_type": "code",
   "execution_count": 22,
   "metadata": {},
   "outputs": [
    {
     "name": "stdout",
     "output_type": "stream",
     "text": [
      "thank you for choosing us. Hope you have a happy meal\n"
     ]
    }
   ],
   "source": [
    "pizza_toppins = ''\n",
    "while pizza_toppins != 'quit':\n",
    "    pizza_toppins =input()\n",
    "    if pizza_toppins =='cheese':\n",
    "        print('extra cheese has been added')\n",
    "    elif pizza_toppins== 'chilli flakes':\n",
    "        print(\"chilli flakes has been added\")\n",
    "    elif pizza_toppins == 'origano':\n",
    "        print('origano has been added to the pizza')\n",
    "    elif pizza_toppins == 'quit':\n",
    "        print(\"thank you for choosing us. Hope you have a happy meal\")\n",
    "       "
   ]
  },
  {
   "cell_type": "code",
   "execution_count": 42,
   "metadata": {},
   "outputs": [
    {
     "name": "stdout",
     "output_type": "stream",
     "text": [
      "[25, 32]\n",
      "Ticket will cost $15 for adults.\n",
      "Ticket will cost $15 for adults.\n",
      "Total Cost: $30\n"
     ]
    }
   ],
   "source": [
    "no_of_people = int(input())\n",
    "age = []\n",
    "totalcost =[]\n",
    "while no_of_people !=0:\n",
    "    if no_of_people >0:\n",
    "        age.append(int(input()))\n",
    "        \n",
    "        \n",
    "        no_of_people-=1\n",
    "    elif no_of_people ==0:\n",
    "        break \n",
    "print(age)\n",
    "for i in age:\n",
    "    if i < 3:\n",
    "        print('''Person don't have to pay for the ticket as he is a child''')\n",
    "        ticket = 0\n",
    "        totalcost.append(ticket)\n",
    "    elif  i>3 and i<12:\n",
    "        print(\"Ticket will cost $10 for children between 3-12 years old\")\n",
    "        ticket = 10\n",
    "        totalcost.append(ticket)\n",
    "    else :\n",
    "        print(\"Ticket will cost $15 for adults.\")\n",
    "        ticket =15\n",
    "        totalcost.append(ticket)\n",
    "print(\"Total Cost: $\"+str(sum(totalcost)))\n",
    "    "
   ]
  },
  {
   "cell_type": "markdown",
   "metadata": {},
   "source": [
    "# 6.1 DICITIONARY\n",
    "\n",
    "In Python, a dictionary is an unordered collection of key-value pairs, where each key is unique and maps to a corresponding value. Dictionaries are defined using curly braces {} and are often used to store data values as key-value pairs. Dictionaries are mutable, meaning that you can add, modify or delete items from a dictionary. They are used to store data efficiently and can be used for various purposes, such as counting the frequency of elements in a list or grouping items in a list by certain values."
   ]
  },
  {
   "cell_type": "code",
   "execution_count": 28,
   "metadata": {},
   "outputs": [
    {
     "name": "stdout",
     "output_type": "stream",
     "text": [
      "(100, 100)\n",
      "True\n"
     ]
    }
   ],
   "source": [
    "\n",
    "dict1 = {\"key1\":1, \"key2\":2}\n",
    "\n",
    "dict2 = {\"key2\":2, \"key1\":1}\n",
    "\n",
    "print(dict1 == dict2)"
   ]
  },
  {
   "cell_type": "markdown",
   "metadata": {},
   "source": [
    "# 7.1 function\n"
   ]
  },
  {
   "cell_type": "code",
   "execution_count": 29,
   "metadata": {},
   "outputs": [
    {
     "name": "stdout",
     "output_type": "stream",
     "text": [
      "hello\n"
     ]
    }
   ],
   "source": [
    "def give_greetings():\n",
    "    \"\"\"Display this is a basic function\"\"\"\n",
    "    print('hello')\n",
    "give_greetings()\n"
   ]
  },
  {
   "cell_type": "code",
   "execution_count": null,
   "metadata": {},
   "outputs": [
    {
     "data": {
      "text/plain": [
       "list"
      ]
     },
     "execution_count": 37,
     "metadata": {},
     "output_type": "execute_result"
    }
   ],
   "source": [
    "def test2():\n",
    "    return [1,2,3,4,5,6,7,58,4]\n",
    "\n",
    "type(test2())"
   ]
  },
  {
   "cell_type": "code",
   "execution_count": null,
   "metadata": {},
   "outputs": [],
   "source": [
    "'helloword'"
   ]
  }
 ],
 "metadata": {
  "kernelspec": {
   "display_name": "Python 3 (ipykernel)",
   "language": "python",
   "name": "python3"
  },
  "language_info": {
   "codemirror_mode": {
    "name": "ipython",
    "version": 3
   },
   "file_extension": ".py",
   "mimetype": "text/x-python",
   "name": "python",
   "nbconvert_exporter": "python",
   "pygments_lexer": "ipython3",
   "version": "3.9.13"
  },
  "vscode": {
   "interpreter": {
    "hash": "9fc936784cde01c975c0c6be84a0cda886022b6442a0df5d4f724b94a5dac9ff"
   }
  }
 },
 "nbformat": 4,
 "nbformat_minor": 2
}
